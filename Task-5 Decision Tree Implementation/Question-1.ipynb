{
 "cells": [
  {
   "cell_type": "markdown",
   "metadata": {},
   "source": [
    "# Task-5 Decision Tree Implementation"
   ]
  },
  {
   "cell_type": "markdown",
   "metadata": {},
   "source": [
    "## Question 1\n",
    "\n",
    "Q1. Complete the decision tree implementation in tree/base.py. The code should be written in Python and not use existing libraries other than the ones shared in class or already imported in the code. Your decision tree should work for four cases:\n",
    "\n",
    "i) discrete features, discrete output;\n",
    "\n",
    "ii) discrete features, real output;\n",
    "\n",
    "iii) real features, discrete output; \n",
    "\n",
    "iv) real features, real output. \n",
    "\n",
    "Your model should accept real inputs only (for discrete inputs, you may convert the attributes into one-hot encoded vectors). Your decision tree should be able to use InformationGain using Entropy or GiniIndex as the criteria for splitting for discrete output. Your decision tree should be able to use InformationGain using MSE as the criteria for splitting for real output. Your code should also be able to plot/display the decision tree."
   ]
  },
  {
   "cell_type": "markdown",
   "metadata": {},
   "source": [
    "**Solution:**\n",
    "\n",
    "We ahve successfully implemented the decision tree implementation in `tree/base.py` as per the assignment requirements. Our decision tree supports the following cases:\n",
    "\n",
    "1. Discrete features, discrete output\n",
    "2. Discrete features, real output\n",
    "3. Real features, discrete output\n",
    "4. Real features, real output\n",
    "\n",
    "Completed files:\n",
    "- `tree/base.py`: Contains the completed DecisionTree class.\n",
    "- `tree/utils.py`: Contains utility functions needed for the decision tree.\n",
    "- `metrics.py`: Includes all required performance metrics functions.\n",
    "\n",
    "Our decision tree implementation displays the decision tree structure through properly formatted text as per the format shown in `tree/base.py`.\n",
    "\n",
    "We have also included the functionality of plotting the decision tree using Graphviz.\n",
    "\n",
    "Please run the `usage.py` file to verify our decision tree implementation and check the results."
   ]
  },
  {
   "cell_type": "markdown",
   "metadata": {},
   "source": []
  }
 ],
 "metadata": {
  "language_info": {
   "name": "python"
  }
 },
 "nbformat": 4,
 "nbformat_minor": 2
}
