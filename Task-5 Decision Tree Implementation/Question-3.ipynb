{
 "cells": [
  {
   "cell_type": "markdown",
   "metadata": {},
   "source": [
    "# Task-5 Decision Tree Implementation"
   ]
  },
  {
   "cell_type": "markdown",
   "metadata": {},
   "source": [
    "## Question 3\n",
    "\n",
    "a) Show the usage of your decision tree for the [automotive efficiency](https://archive.ics.uci.edu/ml/datasets/auto+mpg) problem.\n",
    "    \n",
    "b) Compare the performance of your model with the decision tree module from scikit learn.\n",
    "\n",
    "> You should be editing `auto-efficiency.py` for the code containing the above experiments."
   ]
  },
  {
   "cell_type": "markdown",
   "metadata": {},
   "source": [
    "### The complete code is also available in `auto-efficiency.py`"
   ]
  },
  {
   "cell_type": "markdown",
   "metadata": {},
   "source": [
    "### Importing required libraries"
   ]
  },
  {
   "cell_type": "code",
   "execution_count": 1,
   "metadata": {},
   "outputs": [],
   "source": [
    "import sys\n",
    "import os\n",
    "\n",
    "# Add the path to the directory containing tree.py\n",
    "sys.path.append(os.path.abspath(\"../\"))\n",
    "\n",
    "import numpy as np\n",
    "import pandas as pd\n",
    "from tree.base import DecisionTree\n",
    "from metrics import *\n",
    "from sklearn.model_selection import train_test_split\n",
    "from sklearn.tree import DecisionTreeRegressor\n",
    "\n",
    "np.random.seed(42)"
   ]
  },
  {
   "cell_type": "markdown",
   "metadata": {},
   "source": [
    "### Extracting the auto-mpg data "
   ]
  },
  {
   "cell_type": "code",
   "execution_count": 2,
   "metadata": {},
   "outputs": [
    {
     "name": "stdout",
     "output_type": "stream",
     "text": [
      "{'uci_id': 9, 'name': 'Auto MPG', 'repository_url': 'https://archive.ics.uci.edu/dataset/9/auto+mpg', 'data_url': 'https://archive.ics.uci.edu/static/public/9/data.csv', 'abstract': 'Revised from CMU StatLib library, data concerns city-cycle fuel consumption', 'area': 'Other', 'tasks': ['Regression'], 'characteristics': ['Multivariate'], 'num_instances': 398, 'num_features': 7, 'feature_types': ['Real', 'Categorical', 'Integer'], 'demographics': [], 'target_col': ['mpg'], 'index_col': ['car_name'], 'has_missing_values': 'yes', 'missing_values_symbol': 'NaN', 'year_of_dataset_creation': 1993, 'last_updated': 'Thu Aug 10 2023', 'dataset_doi': '10.24432/C5859H', 'creators': ['R. Quinlan'], 'intro_paper': None, 'additional_info': {'summary': 'This dataset is a slightly modified version of the dataset provided in the StatLib library.  In line with the use by Ross Quinlan (1993) in predicting the attribute \"mpg\", 8 of the original instances were removed because they had unknown values for the \"mpg\" attribute.  The original dataset is available in the file \"auto-mpg.data-original\".\\r\\n\\r\\n\"The data concerns city-cycle fuel consumption in miles per gallon, to be predicted in terms of 3 multivalued discrete and 5 continuous attributes.\" (Quinlan, 1993)', 'purpose': None, 'funded_by': None, 'instances_represent': None, 'recommended_data_splits': None, 'sensitive_data': None, 'preprocessing_description': None, 'variable_info': '    1. mpg:           continuous\\r\\n    2. cylinders:     multi-valued discrete\\r\\n    3. displacement:  continuous\\r\\n    4. horsepower:    continuous\\r\\n    5. weight:        continuous\\r\\n    6. acceleration:  continuous\\r\\n    7. model year:    multi-valued discrete\\r\\n    8. origin:        multi-valued discrete\\r\\n    9. car name:      string (unique for each instance)', 'citation': None}}\n",
      "           name     role         type demographic description units  \\\n",
      "0  displacement  Feature   Continuous        None        None  None   \n",
      "1           mpg   Target   Continuous        None        None  None   \n",
      "2     cylinders  Feature      Integer        None        None  None   \n",
      "3    horsepower  Feature   Continuous        None        None  None   \n",
      "4        weight  Feature   Continuous        None        None  None   \n",
      "5  acceleration  Feature   Continuous        None        None  None   \n",
      "6    model_year  Feature      Integer        None        None  None   \n",
      "7        origin  Feature      Integer        None        None  None   \n",
      "8      car_name       ID  Categorical        None        None  None   \n",
      "\n",
      "  missing_values  \n",
      "0             no  \n",
      "1             no  \n",
      "2             no  \n",
      "3            yes  \n",
      "4             no  \n",
      "5             no  \n",
      "6             no  \n",
      "7             no  \n",
      "8             no  \n",
      "Shape of extracted data:  (398, 8)\n"
     ]
    }
   ],
   "source": [
    "!pip install ucimlrepo --quiet\n",
    "from ucimlrepo import fetch_ucirepo \n",
    "  \n",
    "# fetch dataset \n",
    "auto_mpg = fetch_ucirepo(id=9) \n",
    "  \n",
    "# data (as pandas dataframes) \n",
    "X = auto_mpg.data.features \n",
    "y = auto_mpg.data.targets \n",
    "  \n",
    "# metadata \n",
    "print(auto_mpg.metadata) \n",
    "  \n",
    "# variable information \n",
    "print(auto_mpg.variables)\n",
    "\n",
    "# join X and y to check for null values\n",
    "data = pd.concat([X, y], axis=1)\n",
    "print(\"Shape of extracted data: \", data.shape)\n",
    "\n",
    "\n",
    "\n",
    "# url = 'https://archive.ics.uci.edu/ml/machine-learning-databases/auto-mpg/auto-mpg.data'\n",
    "# data = pd.read_csv(url, delim_whitespace=True, header=None,\n",
    "#                  names=[\"mpg\", \"cylinders\", \"displacement\", \"horsepower\", \"weight\",\n",
    "#                         \"acceleration\", \"model year\", \"origin\", \"car name\"])\n"
   ]
  },
  {
   "cell_type": "markdown",
   "metadata": {},
   "source": [
    "### Data Cleaning/Preprocessing"
   ]
  },
  {
   "cell_type": "code",
   "execution_count": 3,
   "metadata": {},
   "outputs": [
    {
     "name": "stdout",
     "output_type": "stream",
     "text": [
      "Number of NaN/Null values in training data: 6\n",
      "Number of duplicated samples in training data:  0\n",
      "Shape of data after cleaning:  (392, 8)\n"
     ]
    }
   ],
   "source": [
    "data.replace('?', np.nan, inplace=True)\n",
    "print(\"Number of NaN/Null values in training data:\", data.isnull().sum().sum())\n",
    "if data.isnull().sum().sum() > 0:\n",
    "    data.dropna(inplace=True)\n",
    "print(\"Number of duplicated samples in training data: \", data.duplicated().sum())\n",
    "if data.duplicated().sum() > 0:\n",
    "    data.drop_duplicates(inplace=True)\n",
    "\n",
    "print(\"Shape of data after cleaning: \", data.shape)"
   ]
  },
  {
   "cell_type": "code",
   "execution_count": 4,
   "metadata": {},
   "outputs": [
    {
     "name": "stdout",
     "output_type": "stream",
     "text": [
      "X shape: (392, 7)\n",
      "y shape: (392,)\n"
     ]
    }
   ],
   "source": [
    "# separate X and y\n",
    "X = data.drop('mpg', axis=1)\n",
    "y = data['mpg']\n",
    "print(\"X shape:\", X.shape)\n",
    "print(\"y shape:\", y.shape)"
   ]
  },
  {
   "cell_type": "markdown",
   "metadata": {},
   "source": [
    "### Splitting the data into training and testing sets"
   ]
  },
  {
   "cell_type": "code",
   "execution_count": 5,
   "metadata": {},
   "outputs": [
    {
     "name": "stdout",
     "output_type": "stream",
     "text": [
      "X_train size:  (274, 7)\n",
      "y_train size:  (274,)\n",
      "X_test size:  (118, 7)\n",
      "y_test size:  (118,)\n"
     ]
    }
   ],
   "source": [
    "X_train, X_test, y_train, y_test = train_test_split(X, y, test_size=0.3, random_state=42)\n",
    "\n",
    "print(\"X_train size: \", X_train.shape)\n",
    "print(\"y_train size: \", y_train.shape)\n",
    "print(\"X_test size: \", X_test.shape)\n",
    "print(\"y_test size: \", y_test.shape)"
   ]
  },
  {
   "cell_type": "markdown",
   "metadata": {},
   "source": [
    "### Q3 a) Our custom  decision tree implementation "
   ]
  },
  {
   "cell_type": "code",
   "execution_count": 6,
   "metadata": {},
   "outputs": [
    {
     "name": "stderr",
     "output_type": "stream",
     "text": [
      "c:\\Users\\Shardul Junagade\\Desktop\\ES-335-Assignment-1-2024-Fall\\tree\\utils.py:83: RuntimeWarning: invalid value encountered in scalar divide\n",
      "  mse_value = np.sum((Y - Y_mean) ** 2) / Y.size\n"
     ]
    },
    {
     "name": "stdout",
     "output_type": "stream",
     "text": [
      "Train Metrics (Custom):\n",
      "    Root Mean Squared Error: 5.7899\n",
      "    Mean Absolute Error: 4.0589\n",
      "\n",
      "Test Metrics (Custom):\n",
      "    Root Mean Squared Error: 7.1421\n",
      "    Mean Absolute Error: 5.0053\n"
     ]
    }
   ],
   "source": [
    "my_dt = DecisionTree(criterion=\"information_gain\", max_depth=5)\n",
    "my_dt.fit(X_train, y_train)\n",
    "\n",
    "y_train_pred = my_dt.predict(X_train)\n",
    "y_test_pred = my_dt.predict(X_test)\n",
    "\n",
    "train_rmse = rmse(y_train_pred, y_train)\n",
    "train_mae = mae(y_train_pred, y_train)\n",
    "\n",
    "print(\"Train Metrics (Custom):\")\n",
    "print(f\"    Root Mean Squared Error: {train_rmse:.4f}\")\n",
    "print(f\"    Mean Absolute Error: {train_mae:.4f}\")\n",
    "\n",
    "test_rmse = rmse(y_test_pred, y_test)\n",
    "test_mae = mae(y_test_pred, y_test)\n",
    "\n",
    "print(\"\\nTest Metrics (Custom):\")\n",
    "print(f\"    Root Mean Squared Error: {test_rmse:.4f}\")\n",
    "print(f\"    Mean Absolute Error: {test_mae:.4f}\")"
   ]
  },
  {
   "cell_type": "markdown",
   "metadata": {},
   "source": [
    "### Q3 b) Using SkLearn's Decision Tree Regressor"
   ]
  },
  {
   "cell_type": "code",
   "execution_count": 7,
   "metadata": {},
   "outputs": [
    {
     "name": "stdout",
     "output_type": "stream",
     "text": [
      "Train Metrics (Sklearn):\n",
      "    Root Mean Squared Error: 1.9938\n",
      "    Mean Absolute Error: 1.4468\n",
      "\n",
      "Test Metrics (Sklearn):\n",
      "    Root Mean Squared Error: 3.2169\n",
      "    Mean Absolute Error: 2.3546\n"
     ]
    }
   ],
   "source": [
    "sklearn_model = DecisionTreeRegressor(max_depth=5)\n",
    "sklearn_model.fit(X_train, y_train)\n",
    "\n",
    "y_train_pred_sklearn = sklearn_model.predict(X_train)\n",
    "y_test_pred_sklearn = sklearn_model.predict(X_test)\n",
    "\n",
    "train_rmse_sklearn = rmse(pd.Series(y_train_pred_sklearn), y_train)\n",
    "train_mae_sklearn = mae(pd.Series(y_train_pred_sklearn), y_train)\n",
    "\n",
    "print(\"Train Metrics (Sklearn):\")\n",
    "print(f\"    Root Mean Squared Error: {train_rmse_sklearn:.4f}\")\n",
    "print(f\"    Mean Absolute Error: {train_mae_sklearn:.4f}\")\n",
    "\n",
    "test_rmse_sklearn = rmse(pd.Series(y_test_pred_sklearn), y_test)\n",
    "test_mae_sklearn = mae(pd.Series(y_test_pred_sklearn), y_test)\n",
    "\n",
    "print(\"\\nTest Metrics (Sklearn):\")\n",
    "print(f\"    Root Mean Squared Error: {test_rmse_sklearn:.4f}\")\n",
    "print(f\"    Mean Absolute Error: {test_mae_sklearn:.4f}\")"
   ]
  },
  {
   "cell_type": "markdown",
   "metadata": {},
   "source": [
    "## Performance Comparison"
   ]
  },
  {
   "cell_type": "code",
   "execution_count": 8,
   "metadata": {},
   "outputs": [
    {
     "name": "stdout",
     "output_type": "stream",
     "text": [
      "\n",
      "Performance Comparison:\n",
      "\n",
      "Our Decision Tree - Train RMSE: 5.7899\n",
      "Our Decision Tree - Test RMSE: 7.1421\n",
      "Scikit-Learn Decision Tree - Train RMSE: 1.9938\n",
      "Scikit-Learn Decision Tree - Test RMSE: 3.2169\n"
     ]
    }
   ],
   "source": [
    "print(\"\\nPerformance Comparison:\\n\")\n",
    "print(f\"Our Decision Tree - Train RMSE: {train_rmse:.4f}\")\n",
    "print(f\"Our Decision Tree - Test RMSE: {test_rmse:.4f}\")\n",
    "print(f\"Scikit-Learn Decision Tree - Train RMSE: {train_rmse_sklearn:.4f}\")\n",
    "print(f\"Scikit-Learn Decision Tree - Test RMSE: {test_rmse_sklearn:.4f}\")"
   ]
  },
  {
   "cell_type": "markdown",
   "metadata": {},
   "source": [
    "**Comparison of Models:**\n",
    "\n",
    "The performance comparison shows that the Scikit-Learn decision tree outperforms our custom decision tree implementation.\n",
    "\n",
    "   - Our custom decision tree achieved a **Train RMSE of 5.7899**, while the Scikit-Learn decision tree achieved a significantly lower **Train RMSE of 1.9938**.\n",
    "   - On the test set, our model resulted in a **Test RMSE of 7.1421**, compared to **3.2169** from the Scikit-Learn model.\n",
    "\n",
    "This shows that the Scikit-Learn model is better at fitting the training data, likely due to more optimized algorithms and better-handling of edge cases. The higher test RMSE for our model indicates that it doesn't generalize to unseen test data as effectively as Scikit-Learn decision tree.\n",
    "\n",
    "Our implementation, while educational, still provides a relatively reasonable fit and could benefit from further refinement to improve accuracy and reduce overfitting."
   ]
  }
 ],
 "metadata": {
  "kernelspec": {
   "display_name": "venv",
   "language": "python",
   "name": "python3"
  },
  "language_info": {
   "codemirror_mode": {
    "name": "ipython",
    "version": 3
   },
   "file_extension": ".py",
   "mimetype": "text/x-python",
   "name": "python",
   "nbconvert_exporter": "python",
   "pygments_lexer": "ipython3",
   "version": "3.12.4"
  }
 },
 "nbformat": 4,
 "nbformat_minor": 2
}
